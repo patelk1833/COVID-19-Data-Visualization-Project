{
 "cells": [
  {
   "cell_type": "code",
   "execution_count": null,
   "metadata": {
    "vscode": {
     "languageId": "r"
    }
   },
   "outputs": [
    {
     "name": "stdout",
     "output_type": "stream",
     "text": [
      "  Province_State Country_Region       Date Confirmed Deaths Recovered Active\n",
      "1        Alabama             US 2021-01-01    365747   4872    202137 158738\n",
      "2        Alabama             US 2021-01-02    369458   4872    202137 162449\n",
      "3        Alabama             US 2021-01-03    371934   4873    202137 164924\n",
      "4        Alabama             US 2021-01-04    374095   4878    202137 167080\n",
      "5        Alabama             US 2021-01-05    379593   4886    202137 172570\n",
      "6        Alabama             US 2021-01-06    384184   4994    211684 167506\n",
      "  Total_Test_Results Case_Growth_Rate Death_Rate\n",
      "1                 NA        1.2515710   1.332068\n",
      "2                 NA        1.0146358   1.318688\n",
      "3                 NA        0.6701709   1.310179\n",
      "4                 NA        0.5810171   1.303947\n",
      "5                 NA        1.4696802   1.287168\n",
      "6                 NA        1.2094533   1.299898\n"
     ]
    }
   ],
   "source": [
    "# Load necessary libraries\n",
    "library(dplyr)\n",
    "\n",
    "# Define the file path where the CSV file is located\n",
    "file_path <- \"C:/Users/Krish Patel/Desktop/project 3/covid_data_new.csv\"\n",
    "\n",
    "# Read the CSV file into a new dataframe\n",
    "covid_data <- read.csv(file_path)\n",
    "\n",
    "# Convert the Date column to Date format if it isn't already\n",
    "covid_data$Date <- as.Date(covid_data$Date, format = \"%Y-%m-%d\")\n",
    "\n",
    "# Filter data for Alabama and the date range January to June 2021\n",
    "filtered_data <- covid_data %>%\n",
    "  filter(Province_State == \"Alabama\" & Date >= \"2021-01-01\" & Date <= \"2021-06-30\")\n",
    "\n",
    "# Define the file path to save the filtered data\n",
    "output_path <- \"C:/Users/Krish Patel/Desktop/project 3/myapp/covid_data_new.csv\"\n",
    "\n",
    "# Save the filtered data to a new CSV file\n",
    "write.csv(filtered_data, output_path, row.names = FALSE)\n",
    "\n",
    "# Confirm the operation by displaying the filtered data (optional)\n",
    "print(head(filtered_data))\n"
   ]
  },
  {
   "cell_type": "code",
   "execution_count": 6,
   "metadata": {
    "vscode": {
     "languageId": "r"
    }
   },
   "outputs": [],
   "source": [
    "# install.packages(\"rsconnect\")"
   ]
  },
  {
   "cell_type": "code",
   "execution_count": 7,
   "metadata": {
    "vscode": {
     "languageId": "r"
    }
   },
   "outputs": [],
   "source": [
    "rsconnect::setAccountInfo(name='patelk22',\n",
    "\t\t\t  token='3B8A250230C937FD76CBEB3ADDE1783F',\n",
    "\t\t\t  secret='y4DAHqPbbenL4wZVcS0wieOW7wjMzFsqkknqqXm0')"
   ]
  },
  {
   "cell_type": "code",
   "execution_count": 8,
   "metadata": {
    "vscode": {
     "languageId": "r"
    }
   },
   "outputs": [
    {
     "name": "stderr",
     "output_type": "stream",
     "text": [
      "── Preparing for deployment ────────────────────────────────────────────────────\n",
      "\n",
      "\u001b[32m✔\u001b[39m Re-deploying \u001b[34m\u001b[34m\"myapp\"\u001b[34m\u001b[39m using \u001b[34m\u001b[34m\"server: shinyapps.io / username: patelk22\"\u001b[34m\u001b[39m\n",
      "\n",
      "\u001b[36mℹ\u001b[39m Looking up application with id \u001b[34m\u001b[34m\"13175314\"\u001b[34m\u001b[39m...\n",
      "\n",
      "\u001b[32m✔\u001b[39m Found application \u001b[3m\u001b[34m\u001b[3m\u001b[34m<https://patelk22.shinyapps.io/myapp/>\u001b[34m\u001b[3m\u001b[39m\u001b[23m\n",
      "\n",
      "\u001b[36mℹ\u001b[39m Bundling 3 files: \u001b[34m\u001b[34mapp.r\u001b[34m\u001b[39m, \u001b[34m\u001b[34mcovid_data_new.csv\u001b[34m\u001b[39m, and \u001b[34m\u001b[34mfiltered_covid_data_alabama_jan_jun_2021.csv\u001b[34m\u001b[39m\n",
      "\n",
      "\u001b[36mℹ\u001b[39m Capturing R dependencies\n",
      "\n",
      "\u001b[32m✔\u001b[39m Found 114 dependencies\n",
      "\n",
      "\u001b[32m✔\u001b[39m Created 1,506,606b bundle\n",
      "\n",
      "\u001b[36mℹ\u001b[39m Uploading bundle...\n",
      "\n",
      "\u001b[32m✔\u001b[39m Uploaded bundle with id \u001b[34m\u001b[34m9288144\u001b[34m\u001b[39m\n",
      "\n",
      "── Deploying to server ─────────────────────────────────────────────────────────\n",
      "\n"
     ]
    },
    {
     "name": "stdout",
     "output_type": "stream",
     "text": [
      "Waiting for task: 1473021017\n",
      "  building: Building image: 11370157\n",
      "  building: Installing system dependencies\n",
      "  building: Fetching packages\n",
      "  building: Installing packages\n",
      "  building: Installing files\n",
      "  building: Pushing image: 11370157\n",
      "  deploying: Starting instances\n",
      "  rollforward: Activating new instances\n",
      "  terminating: Stopping old instances\n"
     ]
    },
    {
     "name": "stderr",
     "output_type": "stream",
     "text": [
      "── Deployment complete ─────────────────────────────────────────────────────────\n",
      "\n",
      "\u001b[32m✔\u001b[39m Successfully deployed to \u001b[3m\u001b[34m\u001b[3m\u001b[34m<https://patelk22.shinyapps.io/myapp/>\u001b[34m\u001b[3m\u001b[39m\u001b[23m\n",
      "\n"
     ]
    }
   ],
   "source": [
    "library(rsconnect)\n",
    "rsconnect::deployApp('C:/Users/Krish Patel/Desktop/project 3/myapp')"
   ]
  }
 ],
 "metadata": {
  "kernelspec": {
   "display_name": "R",
   "language": "R",
   "name": "ir"
  },
  "language_info": {
   "codemirror_mode": "r",
   "file_extension": ".r",
   "mimetype": "text/x-r-source",
   "name": "R",
   "pygments_lexer": "r",
   "version": "4.4.1"
  }
 },
 "nbformat": 4,
 "nbformat_minor": 2
}
